{
  "cells": [
    {
      "cell_type": "code",
      "execution_count": 1,
      "metadata": {
        "id": "L4yOK4K-1Bjh"
      },
      "outputs": [],
      "source": [
        "import numpy as np\n",
        "import tensorflow as tf\n",
        "\n",
        "from sklearn.model_selection import train_test_split\n",
        "\n",
        "import os\n",
        "import cv2\n",
        "# from google.colab.patches import cv2_imshow\n",
        "import matplotlib.pyplot as plt\n",
        "\n",
        "from tensorflow.keras.layers import Dropout\n",
        "from tensorflow.keras.layers import Flatten,BatchNormalization\n",
        "from tensorflow.keras.layers import Dense, MaxPooling2D,Conv2D\n",
        "from tensorflow.keras.layers import Input,Activation,Add\n",
        "from tensorflow.keras.models import Model\n",
        "from tensorflow.keras.regularizers import l2\n",
        "from tensorflow.keras.optimizers import Adam\n",
        "from tensorflow.keras.callbacks import ModelCheckpoint\n",
        "\n",
        "import pandas as pd\n",
        "\n",
        "from keras.models import Sequential,load_model,Model\n",
        "from keras.layers import Conv2D,MaxPool2D,Dense,Dropout,BatchNormalization,Flatten,Input\n",
        "from sklearn.model_selection import train_test_split"
      ]
    },
    {
      "cell_type": "markdown",
      "metadata": {
        "id": "QIt_obba-lir"
      },
      "source": [
        "# Import Dataset"
      ]
    },
    {
      "cell_type": "code",
      "execution_count": 2,
      "metadata": {
        "colab": {
          "base_uri": "https://localhost:8080/"
        },
        "id": "P6vupcIrTHts",
        "outputId": "ca665e3a-368d-47c5-f003-00fe85d9cb11"
      },
      "outputs": [
        {
          "data": {
            "text/plain": [
              "['angry', 'happy', 'neutral', 'sad']"
            ]
          },
          "execution_count": 2,
          "metadata": {},
          "output_type": "execute_result"
        }
      ],
      "source": [
        "dataset_folder='./dataset'\n",
        "sub_folders=os.listdir(dataset_folder)\n",
        "sub_folders"
      ]
    },
    {
      "cell_type": "code",
      "execution_count": 3,
      "metadata": {
        "colab": {
          "base_uri": "https://localhost:8080/"
        },
        "id": "7zlynqGGTTw8",
        "outputId": "7efde1a5-fb98-4ad5-a75c-a74431b57486"
      },
      "outputs": [],
      "source": [
        "# Reading folder names as labels and images underneath\n",
        "i=0\n",
        "last=[]\n",
        "images=[]\n",
        "labels=[]\n",
        "temp = sub_folders\n",
        "\n",
        "# reading folders in the main dataset folder, one at a time\n",
        "for sub_folder in sub_folders:\n",
        "  sub_folder_index = temp.index(sub_folder)\n",
        "  label = sub_folder_index\n",
        "\n",
        "  # Define labels basis use case. We are using positive:0, negative:1, neutral:2 \n",
        "  # for our use case of predicting emotions of visitors entering a retail store\n",
        "  if  label in [4, 6]:    # label in ['happy', 'surprise']\n",
        "    new_label=0           # changed to label = positive emotion\n",
        "  elif label in [0,5]:      # label in ['anger','sadness']\n",
        "    new_label=1           # changed to label = negative emotion\n",
        "  else:                   # label in ['contempt', 'disgust', 'fear']\n",
        "    new_label=2           # changed to label = neutral emotion\n",
        "  \n",
        "  \n",
        "  path = dataset_folder+'/'+sub_folder\n",
        "  sub_folder_images= os.listdir(path)\n",
        "  \n",
        "  # reading images in the sub folder, one at a time\n",
        "  for image in sub_folder_images:\n",
        "    image_path = path+'/'+image\n",
        "    #print(image_path+\"\\t\"+str(new_label))\n",
        "    \n",
        "    image = cv2.imread(image_path)\n",
        "    image = cv2.cvtColor(image, cv2.COLOR_BGR2GRAY)\n",
        "    image= cv2.resize(image,(48,48))\n",
        "    images.append(image)\n",
        "    labels.append(new_label)\n",
        "    i+=1\n",
        "  last.append(i)"
      ]
    },
    {
      "cell_type": "code",
      "execution_count": 4,
      "metadata": {
        "id": "ynAXG1LwUkds"
      },
      "outputs": [],
      "source": [
        "images_x = np.array(images)\n",
        "labels_y = np.array(labels)\n",
        "\n",
        "# we divide image pixels by 255 to reduce computation power\n",
        "images_x = images_x/255"
      ]
    },
    {
      "cell_type": "code",
      "execution_count": 5,
      "metadata": {
        "colab": {
          "base_uri": "https://localhost:8080/"
        },
        "id": "x2IAQCpvUozE",
        "outputId": "64699f7b-dd76-4884-b9ec-0d5be29d77b0"
      },
      "outputs": [
        {
          "data": {
            "text/plain": [
              "(480, 48, 48)"
            ]
          },
          "execution_count": 5,
          "metadata": {},
          "output_type": "execute_result"
        }
      ],
      "source": [
        "images_x.shape"
      ]
    },
    {
      "cell_type": "code",
      "execution_count": 6,
      "metadata": {
        "id": "u2zL4UzAUpUq"
      },
      "outputs": [],
      "source": [
        "# encoding the labels\n",
        "num_of_classes = 3\n",
        "labels_y_encoded = tf.keras.utils.to_categorical(labels_y,num_classes=num_of_classes)"
      ]
    },
    {
      "cell_type": "markdown",
      "metadata": {
        "id": "FuhOMQUWO51n"
      },
      "source": [
        "# Split into Train / Test"
      ]
    },
    {
      "cell_type": "code",
      "execution_count": 7,
      "metadata": {
        "id": "65f5AH0TUtWA"
      },
      "outputs": [],
      "source": [
        "X_train, X_test, Y_train, Y_test= train_test_split(images_x, labels_y_encoded,test_size=0.25, random_state=10)"
      ]
    },
    {
      "cell_type": "code",
      "execution_count": 8,
      "metadata": {
        "colab": {
          "base_uri": "https://localhost:8080/"
        },
        "id": "9dm-l3cG7n6F",
        "outputId": "9377f402-77bd-4b3e-9b45-b9c8ebf8487f"
      },
      "outputs": [
        {
          "data": {
            "text/plain": [
              "360"
            ]
          },
          "execution_count": 8,
          "metadata": {},
          "output_type": "execute_result"
        }
      ],
      "source": [
        "len(X_train)"
      ]
    },
    {
      "cell_type": "code",
      "execution_count": 9,
      "metadata": {
        "colab": {
          "base_uri": "https://localhost:8080/"
        },
        "id": "2QIGnxnV7seC",
        "outputId": "efb6c973-611e-434a-9e9b-140ca21bb5ae"
      },
      "outputs": [
        {
          "data": {
            "text/plain": [
              "120"
            ]
          },
          "execution_count": 9,
          "metadata": {},
          "output_type": "execute_result"
        }
      ],
      "source": [
        "len(X_test)"
      ]
    },
    {
      "cell_type": "markdown",
      "metadata": {
        "id": "wckM9wr2PDcZ"
      },
      "source": [
        "# Define CNN Architecture"
      ]
    },
    {
      "cell_type": "code",
      "execution_count": 10,
      "metadata": {
        "id": "5PXrZpjVQkJZ"
      },
      "outputs": [],
      "source": [
        "input = Input(shape = (48,48,1))\n",
        "\n",
        "conv1 = Conv2D(32,(3, 3), padding = 'same', strides=(1, 1), kernel_regularizer=l2(0.001))(input)\n",
        "conv1 = Dropout(0.1)(conv1)\n",
        "conv1 = Activation('relu')(conv1)\n",
        "pool1 = MaxPooling2D(pool_size = (2,2)) (conv1)\n",
        "\n",
        "conv2 = Conv2D(64,(3, 3), padding = 'same', strides=(1, 1), kernel_regularizer=l2(0.001))(pool1)\n",
        "conv2 = Dropout(0.1)(conv2)\n",
        "conv2 = Activation('relu')(conv2)\n",
        "pool2 = MaxPooling2D(pool_size = (2,2)) (conv2)\n",
        "\n",
        "conv3 = Conv2D(128,(3, 3), padding = 'same', strides=(1, 1), kernel_regularizer=l2(0.001))(pool2)\n",
        "conv3 = Dropout(0.1)(conv3)\n",
        "conv3 = Activation('relu')(conv3)\n",
        "pool3 = MaxPooling2D(pool_size = (2,2)) (conv3)\n",
        "\n",
        "conv4 = Conv2D(256,(3, 3), padding = 'same', strides=(1, 1), kernel_regularizer=l2(0.001))(pool3)\n",
        "conv4 = Dropout(0.1)(conv4)\n",
        "conv4 = Activation('relu')(conv4)\n",
        "pool4 = MaxPooling2D(pool_size = (2,2)) (conv4)\n",
        "\n",
        "flatten = Flatten()(pool4)\n",
        "\n",
        "dense_1 = Dense(128,activation='relu')(flatten)\n",
        "\n",
        "drop_1 = Dropout(0.2)(dense_1)\n",
        "\n",
        "output = Dense(3,activation=\"sigmoid\")(drop_1)"
      ]
    },
    {
      "cell_type": "code",
      "execution_count": 11,
      "metadata": {
        "colab": {
          "base_uri": "https://localhost:8080/"
        },
        "id": "YJlKlbWEVt5i",
        "outputId": "a1f0d7c3-44cf-49fe-cfae-597489b2c18f"
      },
      "outputs": [
        {
          "name": "stdout",
          "output_type": "stream",
          "text": [
            "Model: \"model\"\n",
            "_________________________________________________________________\n",
            " Layer (type)                Output Shape              Param #   \n",
            "=================================================================\n",
            " input_1 (InputLayer)        [(None, 48, 48, 1)]       0         \n",
            "                                                                 \n",
            " conv2d (Conv2D)             (None, 48, 48, 32)        320       \n",
            "                                                                 \n",
            " dropout (Dropout)           (None, 48, 48, 32)        0         \n",
            "                                                                 \n",
            " activation (Activation)     (None, 48, 48, 32)        0         \n",
            "                                                                 \n",
            " max_pooling2d (MaxPooling2D  (None, 24, 24, 32)       0         \n",
            " )                                                               \n",
            "                                                                 \n",
            " conv2d_1 (Conv2D)           (None, 24, 24, 64)        18496     \n",
            "                                                                 \n",
            " dropout_1 (Dropout)         (None, 24, 24, 64)        0         \n",
            "                                                                 \n",
            " activation_1 (Activation)   (None, 24, 24, 64)        0         \n",
            "                                                                 \n",
            " max_pooling2d_1 (MaxPooling  (None, 12, 12, 64)       0         \n",
            " 2D)                                                             \n",
            "                                                                 \n",
            " conv2d_2 (Conv2D)           (None, 12, 12, 128)       73856     \n",
            "                                                                 \n",
            " dropout_2 (Dropout)         (None, 12, 12, 128)       0         \n",
            "                                                                 \n",
            " activation_2 (Activation)   (None, 12, 12, 128)       0         \n",
            "                                                                 \n",
            " max_pooling2d_2 (MaxPooling  (None, 6, 6, 128)        0         \n",
            " 2D)                                                             \n",
            "                                                                 \n",
            " conv2d_3 (Conv2D)           (None, 6, 6, 256)         295168    \n",
            "                                                                 \n",
            " dropout_3 (Dropout)         (None, 6, 6, 256)         0         \n",
            "                                                                 \n",
            " activation_3 (Activation)   (None, 6, 6, 256)         0         \n",
            "                                                                 \n",
            " max_pooling2d_3 (MaxPooling  (None, 3, 3, 256)        0         \n",
            " 2D)                                                             \n",
            "                                                                 \n",
            " flatten (Flatten)           (None, 2304)              0         \n",
            "                                                                 \n",
            " dense (Dense)               (None, 128)               295040    \n",
            "                                                                 \n",
            " dropout_4 (Dropout)         (None, 128)               0         \n",
            "                                                                 \n",
            " dense_1 (Dense)             (None, 3)                 387       \n",
            "                                                                 \n",
            "=================================================================\n",
            "Total params: 683,267\n",
            "Trainable params: 683,267\n",
            "Non-trainable params: 0\n",
            "_________________________________________________________________\n"
          ]
        }
      ],
      "source": [
        "model = Model(inputs=input,outputs=output)\n",
        "model.compile(optimizer=\"adam\", loss=[\"categorical_crossentropy\"], metrics=['accuracy'])\n",
        "model.summary()"
      ]
    },
    {
      "cell_type": "code",
      "execution_count": 12,
      "metadata": {},
      "outputs": [],
      "source": [
        "mod_json = model.to_json()\n",
        "with open(\"mod.json\", \"w\") as json_file:\n",
        "    json_file.write(mod_json)"
      ]
    },
    {
      "cell_type": "markdown",
      "metadata": {
        "id": "5dPSD8THePCg"
      },
      "source": [
        "# Model Training"
      ]
    },
    {
      "cell_type": "code",
      "execution_count": 13,
      "metadata": {
        "id": "a5Z2BPo8aaWy"
      },
      "outputs": [],
      "source": [
        "fle_s='./output/emotion_model.h5'\n",
        "checkpointer = ModelCheckpoint(fle_s, monitor='loss',verbose=1,save_best_only=True,\n",
        "                               save_weights_only=False, mode='auto',save_freq='epoch')\n",
        "callback_list=[checkpointer]"
      ]
    },
    {
      "cell_type": "code",
      "execution_count": 14,
      "metadata": {
        "colab": {
          "base_uri": "https://localhost:8080/"
        },
        "id": "r-5peV5-a6LZ",
        "outputId": "f3e30331-0eb3-4263-c907-8f1d561a06d3"
      },
      "outputs": [
        {
          "name": "stdout",
          "output_type": "stream",
          "text": [
            "Epoch 1/10\n",
            "12/12 [==============================] - ETA: 0s - loss: 1.0103 - accuracy: 0.5972\n",
            "Epoch 1: loss improved from inf to 1.01033, saving model to ./output\\emotion_model.h5\n",
            "12/12 [==============================] - 11s 428ms/step - loss: 1.0103 - accuracy: 0.5972 - val_loss: 0.8081 - val_accuracy: 0.7500\n",
            "Epoch 2/10\n",
            "12/12 [==============================] - ETA: 0s - loss: 0.8261 - accuracy: 0.7083\n",
            "Epoch 2: loss improved from 1.01033 to 0.82607, saving model to ./output\\emotion_model.h5\n",
            "12/12 [==============================] - 6s 526ms/step - loss: 0.8261 - accuracy: 0.7083 - val_loss: 0.7184 - val_accuracy: 0.7500\n",
            "Epoch 3/10\n",
            "12/12 [==============================] - ETA: 0s - loss: 0.7914 - accuracy: 0.7056\n",
            "Epoch 3: loss improved from 0.82607 to 0.79143, saving model to ./output\\emotion_model.h5\n",
            "12/12 [==============================] - 5s 428ms/step - loss: 0.7914 - accuracy: 0.7056 - val_loss: 0.7002 - val_accuracy: 0.7500\n",
            "Epoch 4/10\n",
            "12/12 [==============================] - ETA: 0s - loss: 0.7290 - accuracy: 0.7083\n",
            "Epoch 4: loss improved from 0.79143 to 0.72896, saving model to ./output\\emotion_model.h5\n",
            "12/12 [==============================] - 4s 369ms/step - loss: 0.7290 - accuracy: 0.7083 - val_loss: 0.6793 - val_accuracy: 0.7500\n",
            "Epoch 5/10\n",
            "12/12 [==============================] - ETA: 0s - loss: 0.7029 - accuracy: 0.7083\n",
            "Epoch 5: loss improved from 0.72896 to 0.70290, saving model to ./output\\emotion_model.h5\n",
            "12/12 [==============================] - 4s 341ms/step - loss: 0.7029 - accuracy: 0.7083 - val_loss: 0.7121 - val_accuracy: 0.7500\n",
            "Epoch 6/10\n",
            "12/12 [==============================] - ETA: 0s - loss: 0.6804 - accuracy: 0.7083\n",
            "Epoch 6: loss improved from 0.70290 to 0.68043, saving model to ./output\\emotion_model.h5\n",
            "12/12 [==============================] - 4s 357ms/step - loss: 0.6804 - accuracy: 0.7083 - val_loss: 0.6738 - val_accuracy: 0.7500\n",
            "Epoch 7/10\n",
            "12/12 [==============================] - ETA: 0s - loss: 0.6134 - accuracy: 0.7333\n",
            "Epoch 7: loss improved from 0.68043 to 0.61339, saving model to ./output\\emotion_model.h5\n",
            "12/12 [==============================] - 4s 332ms/step - loss: 0.6134 - accuracy: 0.7333 - val_loss: 0.6214 - val_accuracy: 0.7917\n",
            "Epoch 8/10\n",
            "12/12 [==============================] - ETA: 0s - loss: 0.5249 - accuracy: 0.7806\n",
            "Epoch 8: loss improved from 0.61339 to 0.52487, saving model to ./output\\emotion_model.h5\n",
            "12/12 [==============================] - 4s 349ms/step - loss: 0.5249 - accuracy: 0.7806 - val_loss: 0.4534 - val_accuracy: 0.8333\n",
            "Epoch 9/10\n",
            "12/12 [==============================] - ETA: 0s - loss: 0.4177 - accuracy: 0.8472\n",
            "Epoch 9: loss improved from 0.52487 to 0.41771, saving model to ./output\\emotion_model.h5\n",
            "12/12 [==============================] - 4s 366ms/step - loss: 0.4177 - accuracy: 0.8472 - val_loss: 0.4646 - val_accuracy: 0.8500\n",
            "Epoch 10/10\n",
            "12/12 [==============================] - ETA: 0s - loss: 0.3720 - accuracy: 0.8833\n",
            "Epoch 10: loss improved from 0.41771 to 0.37203, saving model to ./output\\emotion_model.h5\n",
            "12/12 [==============================] - 4s 329ms/step - loss: 0.3720 - accuracy: 0.8833 - val_loss: 0.3465 - val_accuracy: 0.8750\n"
          ]
        }
      ],
      "source": [
        "save = model.fit(X_train,Y_train,batch_size=32,validation_data=(X_test,Y_test),epochs=10,callbacks=[callback_list])"
      ]
    },
    {
      "cell_type": "markdown",
      "metadata": {
        "id": "9Ps9uoF9ejS9"
      },
      "source": [
        "# Model Performance"
      ]
    },
    {
      "cell_type": "code",
      "execution_count": 18,
      "metadata": {
        "id": "w-8TBOYjengQ"
      },
      "outputs": [
        {
          "name": "stdout",
          "output_type": "stream",
          "text": [
            "0.875\n"
          ]
        }
      ],
      "source": [
        "# Checking the train and test loss and accuracy values from the neural network above.\n",
        "\n",
        "train_loss = save.history['loss']\n",
        "test_loss = save.history['val_loss']\n",
        "train_accuracy = save.history['accuracy']\n",
        "test_accuracy = save.history['val_accuracy']\n",
        "#print(train_accuracy)\n",
        "print(test_accuracy[9])\n"
      ]
    },
    {
      "cell_type": "code",
      "execution_count": null,
      "metadata": {},
      "outputs": [],
      "source": []
    }
  ],
  "metadata": {
    "accelerator": "GPU",
    "colab": {
      "collapsed_sections": [],
      "machine_shape": "hm",
      "name": "2.3_train_emotion_model.ipynb",
      "provenance": [],
      "toc_visible": true
    },
    "kernelspec": {
      "display_name": "Python 3.10.1 64-bit",
      "language": "python",
      "name": "python3"
    },
    "language_info": {
      "codemirror_mode": {
        "name": "ipython",
        "version": 3
      },
      "file_extension": ".py",
      "mimetype": "text/x-python",
      "name": "python",
      "nbconvert_exporter": "python",
      "pygments_lexer": "ipython3",
      "version": "3.10.1"
    },
    "vscode": {
      "interpreter": {
        "hash": "1bc820833a2261e8a0465638bfc9f775560df18e7de2682b1e10328631f38a1d"
      }
    }
  },
  "nbformat": 4,
  "nbformat_minor": 0
}
